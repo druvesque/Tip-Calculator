{
 "cells": [
  {
   "cell_type": "code",
   "execution_count": 1,
   "id": "b99ed342-8d04-4d56-8595-d79d0c7ab340",
   "metadata": {},
   "outputs": [
    {
     "name": "stdout",
     "output_type": "stream",
     "text": [
      "Welcome to the tip calculator!\n"
     ]
    },
    {
     "name": "stdin",
     "output_type": "stream",
     "text": [
      "Enter the total bill: $ 124.78\n",
      "How much tip would you like to give? 10, 12 or 15?  12\n",
      "How many people to split the bill?  7\n"
     ]
    },
    {
     "name": "stdout",
     "output_type": "stream",
     "text": [
      "Each person should pay: $19.9648\n"
     ]
    }
   ],
   "source": [
    "#Tip Calculator\n",
    "print(\"Welcome to the tip calculator!\")\n",
    "bill = float(input(\"Enter the total bill: $\"))\n",
    "tip_percentage = float(input(\"How much tip would you like to give? 10, 12 or 15? \"))\n",
    "people = int(input(\"How many people to split the bill? \"))\n",
    "total_bill = bill + ((tip_percentage/100) * (bill))\n",
    "each_person = total_bill/people\n",
    "print(f\"Each person should pay: ${each_person}\")"
   ]
  }
 ],
 "metadata": {
  "kernelspec": {
   "display_name": "Python 3 (ipykernel)",
   "language": "python",
   "name": "python3"
  },
  "language_info": {
   "codemirror_mode": {
    "name": "ipython",
    "version": 3
   },
   "file_extension": ".py",
   "mimetype": "text/x-python",
   "name": "python",
   "nbconvert_exporter": "python",
   "pygments_lexer": "ipython3",
   "version": "3.11.7"
  }
 },
 "nbformat": 4,
 "nbformat_minor": 5
}
